{
 "cells": [
  {
   "cell_type": "code",
   "execution_count": 14,
   "metadata": {
    "collapsed": false
   },
   "outputs": [
    {
     "name": "stdout",
     "output_type": "stream",
     "text": [
      "500\n"
     ]
    }
   ],
   "source": [
    "import codecs\n",
    "import requests\n",
    "from bs4 import BeautifulSoup\n",
    "\n",
    "s = requests.Session()\n",
    "\n",
    "BaseUrl = 'http://www.wango.org'\n",
    "SubUrl = '/resources.aspx?section=ngodir'\n",
    "SubSubUrl = '&sub=list&regionID=5&col=cc300'\n",
    "\n",
    "ngo_response = requests.get(BaseUrl + SubUrl + SubSubUrl)\n",
    "print ngo_response.status_code"
   ]
  },
  {
   "cell_type": "code",
   "execution_count": 12,
   "metadata": {
    "collapsed": false
   },
   "outputs": [],
   "source": [
    "ngo_soup = BeautifulSoup(ngo_response.content)\n",
    "\n",
    "with open('ngo_response.txt','w') as output_file:\n",
    "    output_file.write(ngo_soup.prettify().encode('utf-8'))"
   ]
  }
 ],
 "metadata": {
  "kernelspec": {
   "display_name": "Python 2",
   "language": "python",
   "name": "python2"
  },
  "language_info": {
   "codemirror_mode": {
    "name": "ipython",
    "version": 2
   },
   "file_extension": ".py",
   "mimetype": "text/x-python",
   "name": "python",
   "nbconvert_exporter": "python",
   "pygments_lexer": "ipython2",
   "version": "2.7.11"
  }
 },
 "nbformat": 4,
 "nbformat_minor": 0
}
