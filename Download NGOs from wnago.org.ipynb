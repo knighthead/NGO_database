{
 "cells": [
  {
   "cell_type": "code",
   "execution_count": 1,
   "metadata": {
    "collapsed": false
   },
   "outputs": [],
   "source": [
    "import codecs\n",
    "import requests\n",
    "from bs4 import BeautifulSoup\n",
    "import random\n",
    "from collections import OrderedDict\n",
    "\n",
    "headers_of_request = {\n",
    "    'User-Agent': 'Mozilla/5.0 (Windows NT 6.1; WOW64) AppleWebKit/537.36 (KHTML, like Gecko) Chrome/49.0.2623.87 Safari/537.36',\n",
    "    'Accept': 'text/html,application/xhtml+xml,application/xml;q=0.9,image/webp,*/*;q=0.8',\n",
    "    'Connection': 'keep-alive',\n",
    "    'Accept-Encoding': 'gzip, deflate, sdch'\n",
    "}"
   ]
  },
  {
   "cell_type": "code",
   "execution_count": 3,
   "metadata": {
    "collapsed": false
   },
   "outputs": [
    {
     "name": "stdout",
     "output_type": "stream",
     "text": [
      "http://www.wango.org/resources.aspx?section=ngodir&sub=region&regionID=5&col=cc3300\n",
      "200\n"
     ]
    }
   ],
   "source": [
    "s = requests.Session()\n",
    "s.headers.update(headers_of_request)\n",
    "BaseUrl = 'http://www.wango.org'\n",
    "SubUrl = '/resources.aspx?section=ngodir'\n",
    "\n",
    "'''SubSubUrl = '&sub=region&regionID=5&col=cc3300'\n",
    "'''\n",
    "\n",
    "payload = OrderedDict([('sub','region'),('regionID', '5'),('col', 'cc3300')])\n",
    "referer = {'Referer': 'http://www.wango.org/resources.aspx?section=ngodir'}\n",
    "request_item = {\n",
    "    \"Countries\": \"ALL\",\n",
    "    \"InterestAreas\": \"Environment\",\n",
    "    \"currpage\": 1,\n",
    "    \"keyword\": \"\",\n",
    "    \"searching\": \"\",\n",
    "    \"search_regionID\": \"\",\n",
    "    \"search_country\": \"\",\n",
    "    \"search_state\": \"\",\n",
    "    \"search_mission\": \"\",\n",
    "    \"search_focus\": \"\",\n",
    "    \"search_city\": \"\",\n",
    "    \"ffrom\": \"\",\n",
    "    \"fto\": \"zz\",\n",
    "}\n",
    "\n",
    "ngo_initial_response = requests.post(BaseUrl + SubUrl,params=payload,data=request_item,\n",
    "                             headers=referer)\n",
    "print ngo_initial_response.url\n",
    "print ngo_initial_response.status_code"
   ]
  },
  {
   "cell_type": "code",
   "execution_count": 5,
   "metadata": {
    "collapsed": false
   },
   "outputs": [],
   "source": [
    "ngo_soup = BeautifulSoup(ngo_initial_response.content,'lxml')\n",
    "with open('ngo_response.txt','w') as output_file:\n",
    "    output_file.write(ngo_soup.prettify().encode('utf-8'))"
   ]
  },
  {
   "cell_type": "code",
   "execution_count": 4,
   "metadata": {
    "collapsed": false,
    "scrolled": true
   },
   "outputs": [
    {
     "name": "stdout",
     "output_type": "stream",
     "text": [
      "<div align=\"left\">Page: <b>1</b>  <a href=\"javascript:goPage('2',  '', 'zz');void(0);\">2</a>  <a href=\"javascript:goPage('3',  '', 'zz');void(0);\">3</a>  <a href=\"javascript:goPage('4',  '', 'zz');void(0);\">4</a>  <a href=\"javascript:goPage('5',  '', 'zz');void(0);\">5</a>  <a href=\"javascript:goPage('6',  '', 'zz');void(0);\">6</a>  <a href=\"javascript:goPage('7',  '', 'zz');void(0);\">7</a>  <a href=\"javascript:goPage('8',  '', 'zz');void(0);\">8</a>  <a href=\"javascript:goPage('9',  '', 'zz');void(0);\">9</a>  <a href=\"javascript:goPage('10',  '', 'zz');void(0);\">10</a>  <a href=\"javascript:goPage('11',  '', 'zz');void(0);\">11</a>  <a href=\"javascript:goPage('12',  '', 'zz');void(0);\">12</a>  <a href=\"javascript:goPage('13',  '', 'zz');void(0);\">13</a>  <a href=\"javascript:goPage('14',  '', 'zz');void(0);\">14</a>  <a href=\"javascript:goPage('14',  '', 'zz');void(0);\">&gt;</a>  <a href=\"javascript:goPage('14',  '', 'zz');void(0);\">&gt;&gt;</a>  </div>\n",
      "14\n"
     ]
    }
   ],
   "source": [
    "initial_content = ngo_soup.find('div',{'class': 'content'})\n",
    "pages_content = initial_content.find('td',{'valign': 'top'}).find('div',{'align': 'left'})\n",
    "number_of_pages = -1\n",
    "print pages_content\n",
    "for link in pages_content.findAll('a'):\n",
    "    number_of_pages += 1\n",
    "    \n",
    "print number_of_pages"
   ]
  }
 ],
 "metadata": {
  "kernelspec": {
   "display_name": "Python 2",
   "language": "python",
   "name": "python2"
  },
  "language_info": {
   "codemirror_mode": {
    "name": "ipython",
    "version": 2
   },
   "file_extension": ".py",
   "mimetype": "text/x-python",
   "name": "python",
   "nbconvert_exporter": "python",
   "pygments_lexer": "ipython2",
   "version": "2.7.11"
  }
 },
 "nbformat": 4,
 "nbformat_minor": 0
}
