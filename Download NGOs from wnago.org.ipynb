{
 "cells": [
  {
   "cell_type": "code",
   "execution_count": null,
   "metadata": {
    "collapsed": false
   },
   "outputs": [],
   "source": [
    "import codecs\n",
    "import requests\n",
    "from bs4 import BeautifulSoup\n",
    "import random\n",
    "from collections import OrderedDict\n",
    "import re\n",
    "from types import *\n",
    "\n",
    "headers_of_request = {\n",
    "    'User-Agent': 'Mozilla/5.0 (Windows NT 6.1; WOW64) AppleWebKit/537.36 (KHTML, like Gecko) Chrome/49.0.2623.87 Safari/537.36',\n",
    "    'Accept': 'text/html,application/xhtml+xml,application/xml;q=0.9,image/webp,*/*;q=0.8',\n",
    "    'Accept-Encoding': 'gzip, deflate, sdch',\n",
    "    'Accept-Language': 'en-US,en;q=0.5',\n",
    "    'Connection': 'keep-alive',\n",
    "    'Host': 'www.wango.org'\n",
    "}\n",
    "\n",
    "def relevant_links(tag):\n",
    "    a = False\n",
    "    if (tag.name==u'a' and tag.has_attr('href')):\n",
    "        if (tag['href'].find('javascript:loadOrg(')!=-1):\n",
    "            a = True\n",
    "    return a\n",
    "\n",
    "s = requests.Session()\n",
    "s.headers.update(headers_of_request)"
   ]
  },
  {
   "cell_type": "markdown",
   "metadata": {},
   "source": [
    ".. code:: python:\n",
    "\n",
    "    def relevant_links(tag):\n",
    "        a = false\n",
    "        if (tag.name==u'a' and tag.has_attr('href')):\n",
    "            if (tag['href'].find('javascript:loadOrg(')!=-1):\n",
    "                ngo_id = re.search(\"javascript:loadOrg((.+?));\",tag['href'])\n",
    "                if ngo_id:\n",
    "                    a = ngo_id.group(1)[2:-2]\n",
    "            else:\n",
    "                a = '-1'\n",
    "        else:\n",
    "            a = '-1'\n",
    "        return int(float(a))"
   ]
  },
  {
   "cell_type": "code",
   "execution_count": null,
   "metadata": {
    "collapsed": false
   },
   "outputs": [],
   "source": [
    "BaseUrl = 'http://www.wango.org'\n",
    "SubUrl = '/resources.aspx?section=ngodir'\n",
    "\n",
    "'''SubSubUrl = '&sub=region&regionID=5&col=cc3300'\n",
    "'''\n",
    "\n",
    "payload = OrderedDict([('sub','region'),('regionID', '5'),('col', 'cc3300')])\n",
    "\n",
    "\n",
    "\n",
    "ngo_initial_response = s.get(url=(BaseUrl + SubUrl),params=payload)\n",
    "print ngo_initial_response.url\n",
    "print ngo_initial_response.status_code\n",
    "print ngo_initial_response.request.body"
   ]
  },
  {
   "cell_type": "code",
   "execution_count": null,
   "metadata": {
    "collapsed": false
   },
   "outputs": [],
   "source": [
    "request_item = OrderedDict([\n",
    "    (\"Countries\", \"32,68,76,152,170,218,238,254,328,600,604,740,858,862,0\"),\n",
    "    (\"InterestAreas\", \"Environment\"),\n",
    "    (\"currpage\", 1)\n",
    "])\n",
    "referer = {\n",
    "    'Referer': ngo_initial_response.url\n",
    "}\n",
    "\n",
    "\n",
    "\n",
    "payload2 = OrderedDict([('sub','list'),('regionID', '5'),('col', 'cc3300')])\n",
    "ngo_filtered_response = s.post(url=(BaseUrl + SubUrl),params=payload2, data=request_item, headers=referer)\n",
    "print ngo_filtered_response.url\n",
    "print ngo_filtered_response.status_code\n",
    "print ngo_filtered_response.request.body"
   ]
  },
  {
   "cell_type": "code",
   "execution_count": null,
   "metadata": {
    "collapsed": true
   },
   "outputs": [],
   "source": [
    "ngo_soup = BeautifulSoup(ngo_filtered_response.content,'lxml')"
   ]
  },
  {
   "cell_type": "markdown",
   "metadata": {
    "collapsed": false
   },
   "source": [
    "print ngo_soup.prettify()"
   ]
  },
  {
   "cell_type": "code",
   "execution_count": null,
   "metadata": {
    "collapsed": false
   },
   "outputs": [],
   "source": [
    "filtered_content = ngo_soup.find('div',{'class': 'content'})\n",
    "filtered_pages_content = filtered_content.find('td',{'valign': 'top'}).find('div',{'align': 'left'})\n",
    "number_of_pages = -1\n",
    "\n",
    "for link in filtered_pages_content.findAll('a'):\n",
    "    number_of_pages += 1\n",
    "    \n"
   ]
  },
  {
   "cell_type": "code",
   "execution_count": null,
   "metadata": {
    "collapsed": true
   },
   "outputs": [],
   "source": [
    "main_content = filtered_content.find('td',{'valign': 'top'})\n",
    "print main_content.prettify()"
   ]
  },
  {
   "cell_type": "code",
   "execution_count": null,
   "metadata": {
    "collapsed": false
   },
   "outputs": [],
   "source": [
    "for link in main_content.findAll(relevant_links):\n",
    "    ngo_id = int(float(re.search(\"javascript:loadOrg((.+?));\",\n",
    "                                 link['href']).group(1)[2:-2]))\n",
    "    \n",
    "   "
   ]
  }
 ],
 "metadata": {
  "kernelspec": {
   "display_name": "Python 2",
   "language": "python",
   "name": "python2"
  },
  "language_info": {
   "codemirror_mode": {
    "name": "ipython",
    "version": 2
   },
   "file_extension": ".py",
   "mimetype": "text/x-python",
   "name": "python",
   "nbconvert_exporter": "python",
   "pygments_lexer": "ipython2",
   "version": "2.7.11"
  }
 },
 "nbformat": 4,
 "nbformat_minor": 0
}
